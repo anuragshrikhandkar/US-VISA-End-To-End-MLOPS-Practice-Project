{
 "cells": [
  {
   "cell_type": "code",
   "execution_count": 19,
   "id": "fb10da2b",
   "metadata": {},
   "outputs": [],
   "source": [
    "import pandas as pd"
   ]
  },
  {
   "cell_type": "code",
   "execution_count": 20,
   "id": "0533375b",
   "metadata": {},
   "outputs": [
    {
     "name": "stdout",
     "output_type": "stream",
     "text": [
      "Requirement already satisfied: evidently in d:\\us-visa-end-to-end mlops project\\us-visa-end-to-end-mlops-practice-project\\myenv\\lib\\site-packages (0.7.10)\n",
      "Requirement already satisfied: plotly<6,>=5.10.0 in d:\\us-visa-end-to-end mlops project\\us-visa-end-to-end-mlops-practice-project\\myenv\\lib\\site-packages (from evidently) (5.24.1)\n",
      "Requirement already satisfied: statsmodels>=0.12.2 in d:\\us-visa-end-to-end mlops project\\us-visa-end-to-end-mlops-practice-project\\myenv\\lib\\site-packages (from evidently) (0.14.5)\n",
      "Requirement already satisfied: scikit-learn>=1.0.1 in d:\\us-visa-end-to-end mlops project\\us-visa-end-to-end-mlops-practice-project\\myenv\\lib\\site-packages (from evidently) (1.7.0)\n",
      "Requirement already satisfied: pandas>=1.3.5 in d:\\us-visa-end-to-end mlops project\\us-visa-end-to-end-mlops-practice-project\\myenv\\lib\\site-packages (from pandas[parquet]>=1.3.5->evidently) (2.3.1)\n",
      "Requirement already satisfied: numpy>=1.22.0 in d:\\us-visa-end-to-end mlops project\\us-visa-end-to-end-mlops-practice-project\\myenv\\lib\\site-packages (from evidently) (2.2.6)\n",
      "Requirement already satisfied: nltk>=3.6.7 in d:\\us-visa-end-to-end mlops project\\us-visa-end-to-end-mlops-practice-project\\myenv\\lib\\site-packages (from evidently) (3.9.1)\n",
      "Requirement already satisfied: scipy>=1.10.0 in d:\\us-visa-end-to-end mlops project\\us-visa-end-to-end-mlops-practice-project\\myenv\\lib\\site-packages (from evidently) (1.15.3)\n",
      "Requirement already satisfied: requests>=2.32.0 in d:\\us-visa-end-to-end mlops project\\us-visa-end-to-end-mlops-practice-project\\myenv\\lib\\site-packages (from evidently) (2.32.4)\n",
      "Requirement already satisfied: PyYAML>=5.4 in d:\\us-visa-end-to-end mlops project\\us-visa-end-to-end-mlops-practice-project\\myenv\\lib\\site-packages (from evidently) (6.0.2)\n",
      "Requirement already satisfied: pydantic>=1.10.16 in d:\\us-visa-end-to-end mlops project\\us-visa-end-to-end-mlops-practice-project\\myenv\\lib\\site-packages (from evidently) (2.11.7)\n",
      "Requirement already satisfied: litestar>=2.8.3 in d:\\us-visa-end-to-end mlops project\\us-visa-end-to-end-mlops-practice-project\\myenv\\lib\\site-packages (from evidently) (2.16.0)\n",
      "Requirement already satisfied: typing-inspect>=0.9.0 in d:\\us-visa-end-to-end mlops project\\us-visa-end-to-end-mlops-practice-project\\myenv\\lib\\site-packages (from evidently) (0.9.0)\n",
      "Requirement already satisfied: uvicorn>=0.22.0 in d:\\us-visa-end-to-end mlops project\\us-visa-end-to-end-mlops-practice-project\\myenv\\lib\\site-packages (from uvicorn[standard]>=0.22.0->evidently) (0.35.0)\n",
      "Requirement already satisfied: watchdog>=3.0.0 in d:\\us-visa-end-to-end mlops project\\us-visa-end-to-end-mlops-practice-project\\myenv\\lib\\site-packages (from evidently) (6.0.0)\n",
      "Requirement already satisfied: typer>=0.3 in d:\\us-visa-end-to-end mlops project\\us-visa-end-to-end-mlops-practice-project\\myenv\\lib\\site-packages (from evidently) (0.16.0)\n",
      "Requirement already satisfied: rich>=13 in d:\\us-visa-end-to-end mlops project\\us-visa-end-to-end-mlops-practice-project\\myenv\\lib\\site-packages (from evidently) (14.0.0)\n",
      "Requirement already satisfied: iterative-telemetry>=0.0.5 in d:\\us-visa-end-to-end mlops project\\us-visa-end-to-end-mlops-practice-project\\myenv\\lib\\site-packages (from evidently) (0.0.10)\n",
      "Requirement already satisfied: dynaconf>=3.2.4 in d:\\us-visa-end-to-end mlops project\\us-visa-end-to-end-mlops-practice-project\\myenv\\lib\\site-packages (from evidently) (3.2.11)\n",
      "Requirement already satisfied: certifi>=2024.7.4 in d:\\us-visa-end-to-end mlops project\\us-visa-end-to-end-mlops-practice-project\\myenv\\lib\\site-packages (from evidently) (2025.7.9)\n",
      "Requirement already satisfied: urllib3>=1.26.19 in d:\\us-visa-end-to-end mlops project\\us-visa-end-to-end-mlops-practice-project\\myenv\\lib\\site-packages (from evidently) (2.5.0)\n",
      "Requirement already satisfied: fsspec>=2024.6.1 in d:\\us-visa-end-to-end mlops project\\us-visa-end-to-end-mlops-practice-project\\myenv\\lib\\site-packages (from evidently) (2025.5.1)\n",
      "Requirement already satisfied: ujson>=5.4.0 in d:\\us-visa-end-to-end mlops project\\us-visa-end-to-end-mlops-practice-project\\myenv\\lib\\site-packages (from evidently) (5.10.0)\n",
      "Requirement already satisfied: deprecation>=2.1.0 in d:\\us-visa-end-to-end mlops project\\us-visa-end-to-end-mlops-practice-project\\myenv\\lib\\site-packages (from evidently) (2.1.0)\n",
      "Requirement already satisfied: uuid6>=2024.7.10 in d:\\us-visa-end-to-end mlops project\\us-visa-end-to-end-mlops-practice-project\\myenv\\lib\\site-packages (from evidently) (2025.0.1)\n",
      "Requirement already satisfied: cryptography>=43.0.1 in d:\\us-visa-end-to-end mlops project\\us-visa-end-to-end-mlops-practice-project\\myenv\\lib\\site-packages (from evidently) (45.0.5)\n",
      "Requirement already satisfied: tenacity>=6.2.0 in d:\\us-visa-end-to-end mlops project\\us-visa-end-to-end-mlops-practice-project\\myenv\\lib\\site-packages (from plotly<6,>=5.10.0->evidently) (9.1.2)\n",
      "Requirement already satisfied: packaging in d:\\us-visa-end-to-end mlops project\\us-visa-end-to-end-mlops-practice-project\\myenv\\lib\\site-packages (from plotly<6,>=5.10.0->evidently) (25.0)\n",
      "Requirement already satisfied: cffi>=1.14 in d:\\us-visa-end-to-end mlops project\\us-visa-end-to-end-mlops-practice-project\\myenv\\lib\\site-packages (from cryptography>=43.0.1->evidently) (1.17.1)\n",
      "Requirement already satisfied: pycparser in d:\\us-visa-end-to-end mlops project\\us-visa-end-to-end-mlops-practice-project\\myenv\\lib\\site-packages (from cffi>=1.14->cryptography>=43.0.1->evidently) (2.22)\n",
      "Requirement already satisfied: appdirs in d:\\us-visa-end-to-end mlops project\\us-visa-end-to-end-mlops-practice-project\\myenv\\lib\\site-packages (from iterative-telemetry>=0.0.5->evidently) (1.4.4)\n",
      "Requirement already satisfied: filelock in d:\\us-visa-end-to-end mlops project\\us-visa-end-to-end-mlops-practice-project\\myenv\\lib\\site-packages (from iterative-telemetry>=0.0.5->evidently) (3.18.0)\n",
      "Requirement already satisfied: distro in d:\\us-visa-end-to-end mlops project\\us-visa-end-to-end-mlops-practice-project\\myenv\\lib\\site-packages (from iterative-telemetry>=0.0.5->evidently) (1.9.0)\n",
      "Requirement already satisfied: anyio>=3 in d:\\us-visa-end-to-end mlops project\\us-visa-end-to-end-mlops-practice-project\\myenv\\lib\\site-packages (from litestar>=2.8.3->evidently) (4.9.0)\n",
      "Requirement already satisfied: click in d:\\us-visa-end-to-end mlops project\\us-visa-end-to-end-mlops-practice-project\\myenv\\lib\\site-packages (from litestar>=2.8.3->evidently) (8.2.1)\n",
      "Requirement already satisfied: exceptiongroup in d:\\us-visa-end-to-end mlops project\\us-visa-end-to-end-mlops-practice-project\\myenv\\lib\\site-packages (from litestar>=2.8.3->evidently) (1.3.0)\n",
      "Requirement already satisfied: httpx>=0.22 in d:\\us-visa-end-to-end mlops project\\us-visa-end-to-end-mlops-practice-project\\myenv\\lib\\site-packages (from litestar>=2.8.3->evidently) (0.28.1)\n",
      "Requirement already satisfied: litestar-htmx>=0.4.0 in d:\\us-visa-end-to-end mlops project\\us-visa-end-to-end-mlops-practice-project\\myenv\\lib\\site-packages (from litestar>=2.8.3->evidently) (0.5.0)\n",
      "Requirement already satisfied: msgspec>=0.18.2 in d:\\us-visa-end-to-end mlops project\\us-visa-end-to-end-mlops-practice-project\\myenv\\lib\\site-packages (from litestar>=2.8.3->evidently) (0.19.0)\n",
      "Requirement already satisfied: multidict>=6.0.2 in d:\\us-visa-end-to-end mlops project\\us-visa-end-to-end-mlops-practice-project\\myenv\\lib\\site-packages (from litestar>=2.8.3->evidently) (6.6.3)\n",
      "Requirement already satisfied: multipart>=1.2.0 in d:\\us-visa-end-to-end mlops project\\us-visa-end-to-end-mlops-practice-project\\myenv\\lib\\site-packages (from litestar>=2.8.3->evidently) (1.2.1)\n",
      "Requirement already satisfied: polyfactory>=2.6.3 in d:\\us-visa-end-to-end mlops project\\us-visa-end-to-end-mlops-practice-project\\myenv\\lib\\site-packages (from litestar>=2.8.3->evidently) (2.22.0)\n",
      "Requirement already satisfied: rich-click in d:\\us-visa-end-to-end mlops project\\us-visa-end-to-end-mlops-practice-project\\myenv\\lib\\site-packages (from litestar>=2.8.3->evidently) (1.8.9)\n",
      "Requirement already satisfied: typing-extensions in d:\\us-visa-end-to-end mlops project\\us-visa-end-to-end-mlops-practice-project\\myenv\\lib\\site-packages (from litestar>=2.8.3->evidently) (4.14.1)\n",
      "Requirement already satisfied: idna>=2.8 in d:\\us-visa-end-to-end mlops project\\us-visa-end-to-end-mlops-practice-project\\myenv\\lib\\site-packages (from anyio>=3->litestar>=2.8.3->evidently) (3.10)\n",
      "Requirement already satisfied: sniffio>=1.1 in d:\\us-visa-end-to-end mlops project\\us-visa-end-to-end-mlops-practice-project\\myenv\\lib\\site-packages (from anyio>=3->litestar>=2.8.3->evidently) (1.3.1)\n",
      "Requirement already satisfied: httpcore==1.* in d:\\us-visa-end-to-end mlops project\\us-visa-end-to-end-mlops-practice-project\\myenv\\lib\\site-packages (from httpx>=0.22->litestar>=2.8.3->evidently) (1.0.9)\n",
      "Requirement already satisfied: h11>=0.16 in d:\\us-visa-end-to-end mlops project\\us-visa-end-to-end-mlops-practice-project\\myenv\\lib\\site-packages (from httpcore==1.*->httpx>=0.22->litestar>=2.8.3->evidently) (0.16.0)\n",
      "Requirement already satisfied: joblib in d:\\us-visa-end-to-end mlops project\\us-visa-end-to-end-mlops-practice-project\\myenv\\lib\\site-packages (from nltk>=3.6.7->evidently) (1.5.1)\n",
      "Requirement already satisfied: regex>=2021.8.3 in d:\\us-visa-end-to-end mlops project\\us-visa-end-to-end-mlops-practice-project\\myenv\\lib\\site-packages (from nltk>=3.6.7->evidently) (2024.11.6)\n",
      "Requirement already satisfied: tqdm in d:\\us-visa-end-to-end mlops project\\us-visa-end-to-end-mlops-practice-project\\myenv\\lib\\site-packages (from nltk>=3.6.7->evidently) (4.67.1)\n",
      "Requirement already satisfied: python-dateutil>=2.8.2 in d:\\us-visa-end-to-end mlops project\\us-visa-end-to-end-mlops-practice-project\\myenv\\lib\\site-packages (from pandas>=1.3.5->pandas[parquet]>=1.3.5->evidently) (2.9.0.post0)\n",
      "Requirement already satisfied: pytz>=2020.1 in d:\\us-visa-end-to-end mlops project\\us-visa-end-to-end-mlops-practice-project\\myenv\\lib\\site-packages (from pandas>=1.3.5->pandas[parquet]>=1.3.5->evidently) (2025.2)\n",
      "Requirement already satisfied: tzdata>=2022.7 in d:\\us-visa-end-to-end mlops project\\us-visa-end-to-end-mlops-practice-project\\myenv\\lib\\site-packages (from pandas>=1.3.5->pandas[parquet]>=1.3.5->evidently) (2025.2)\n",
      "Requirement already satisfied: pyarrow>=10.0.1 in d:\\us-visa-end-to-end mlops project\\us-visa-end-to-end-mlops-practice-project\\myenv\\lib\\site-packages (from pandas[parquet]>=1.3.5->evidently) (20.0.0)\n",
      "Requirement already satisfied: faker>=5.0.0 in d:\\us-visa-end-to-end mlops project\\us-visa-end-to-end-mlops-practice-project\\myenv\\lib\\site-packages (from polyfactory>=2.6.3->litestar>=2.8.3->evidently) (37.4.0)\n",
      "Requirement already satisfied: annotated-types>=0.6.0 in d:\\us-visa-end-to-end mlops project\\us-visa-end-to-end-mlops-practice-project\\myenv\\lib\\site-packages (from pydantic>=1.10.16->evidently) (0.7.0)\n",
      "Requirement already satisfied: pydantic-core==2.33.2 in d:\\us-visa-end-to-end mlops project\\us-visa-end-to-end-mlops-practice-project\\myenv\\lib\\site-packages (from pydantic>=1.10.16->evidently) (2.33.2)\n",
      "Requirement already satisfied: typing-inspection>=0.4.0 in d:\\us-visa-end-to-end mlops project\\us-visa-end-to-end-mlops-practice-project\\myenv\\lib\\site-packages (from pydantic>=1.10.16->evidently) (0.4.1)\n",
      "Requirement already satisfied: six>=1.5 in d:\\us-visa-end-to-end mlops project\\us-visa-end-to-end-mlops-practice-project\\myenv\\lib\\site-packages (from python-dateutil>=2.8.2->pandas>=1.3.5->pandas[parquet]>=1.3.5->evidently) (1.17.0)\n",
      "Requirement already satisfied: charset_normalizer<4,>=2 in d:\\us-visa-end-to-end mlops project\\us-visa-end-to-end-mlops-practice-project\\myenv\\lib\\site-packages (from requests>=2.32.0->evidently) (3.4.2)\n",
      "Requirement already satisfied: markdown-it-py>=2.2.0 in d:\\us-visa-end-to-end mlops project\\us-visa-end-to-end-mlops-practice-project\\myenv\\lib\\site-packages (from rich>=13->evidently) (3.0.0)\n",
      "Requirement already satisfied: pygments<3.0.0,>=2.13.0 in d:\\us-visa-end-to-end mlops project\\us-visa-end-to-end-mlops-practice-project\\myenv\\lib\\site-packages (from rich>=13->evidently) (2.19.2)\n",
      "Requirement already satisfied: mdurl~=0.1 in d:\\us-visa-end-to-end mlops project\\us-visa-end-to-end-mlops-practice-project\\myenv\\lib\\site-packages (from markdown-it-py>=2.2.0->rich>=13->evidently) (0.1.2)\n",
      "Requirement already satisfied: threadpoolctl>=3.1.0 in d:\\us-visa-end-to-end mlops project\\us-visa-end-to-end-mlops-practice-project\\myenv\\lib\\site-packages (from scikit-learn>=1.0.1->evidently) (3.6.0)\n",
      "Requirement already satisfied: patsy>=0.5.6 in d:\\us-visa-end-to-end mlops project\\us-visa-end-to-end-mlops-practice-project\\myenv\\lib\\site-packages (from statsmodels>=0.12.2->evidently) (1.0.1)\n",
      "Requirement already satisfied: shellingham>=1.3.0 in d:\\us-visa-end-to-end mlops project\\us-visa-end-to-end-mlops-practice-project\\myenv\\lib\\site-packages (from typer>=0.3->evidently) (1.5.4)\n",
      "Requirement already satisfied: colorama in d:\\us-visa-end-to-end mlops project\\us-visa-end-to-end-mlops-practice-project\\myenv\\lib\\site-packages (from click->litestar>=2.8.3->evidently) (0.4.6)\n",
      "Requirement already satisfied: mypy-extensions>=0.3.0 in d:\\us-visa-end-to-end mlops project\\us-visa-end-to-end-mlops-practice-project\\myenv\\lib\\site-packages (from typing-inspect>=0.9.0->evidently) (1.1.0)\n",
      "Requirement already satisfied: httptools>=0.6.3 in d:\\us-visa-end-to-end mlops project\\us-visa-end-to-end-mlops-practice-project\\myenv\\lib\\site-packages (from uvicorn[standard]>=0.22.0->evidently) (0.6.4)\n",
      "Requirement already satisfied: python-dotenv>=0.13 in d:\\us-visa-end-to-end mlops project\\us-visa-end-to-end-mlops-practice-project\\myenv\\lib\\site-packages (from uvicorn[standard]>=0.22.0->evidently) (1.1.1)\n",
      "Requirement already satisfied: watchfiles>=0.13 in d:\\us-visa-end-to-end mlops project\\us-visa-end-to-end-mlops-practice-project\\myenv\\lib\\site-packages (from uvicorn[standard]>=0.22.0->evidently) (1.1.0)\n",
      "Requirement already satisfied: websockets>=10.4 in d:\\us-visa-end-to-end mlops project\\us-visa-end-to-end-mlops-practice-project\\myenv\\lib\\site-packages (from uvicorn[standard]>=0.22.0->evidently) (15.0.1)\n"
     ]
    }
   ],
   "source": [
    "! pip install evidently\n"
   ]
  },
  {
   "cell_type": "markdown",
   "id": "78ac7467",
   "metadata": {},
   "source": []
  },
  {
   "cell_type": "code",
   "execution_count": 3,
   "id": "bf7094e9",
   "metadata": {},
   "outputs": [
    {
     "ename": "ModuleNotFoundError",
     "evalue": "No module named 'evidently.metric_preset'",
     "output_type": "error",
     "traceback": [
      "\u001b[1;31m---------------------------------------------------------------------------\u001b[0m",
      "\u001b[1;31mModuleNotFoundError\u001b[0m                       Traceback (most recent call last)",
      "Cell \u001b[1;32mIn[3], line 2\u001b[0m\n\u001b[0;32m      1\u001b[0m \u001b[38;5;66;03m# from evidently.report import Report\u001b[39;00m\n\u001b[1;32m----> 2\u001b[0m \u001b[38;5;28;01mfrom\u001b[39;00m\u001b[38;5;250m \u001b[39m\u001b[38;5;21;01mevidently\u001b[39;00m\u001b[38;5;21;01m.\u001b[39;00m\u001b[38;5;21;01mmetric_preset\u001b[39;00m\u001b[38;5;250m \u001b[39m\u001b[38;5;28;01mimport\u001b[39;00m DataDriftPreset\n\u001b[0;32m      4\u001b[0m report \u001b[38;5;241m=\u001b[39m Report(metrics\u001b[38;5;241m=\u001b[39m[\n\u001b[0;32m      5\u001b[0m     DataDriftPreset()\n\u001b[0;32m      6\u001b[0m ])\n\u001b[0;32m      8\u001b[0m report\u001b[38;5;241m.\u001b[39mrun(reference_data\u001b[38;5;241m=\u001b[39mref_df, current_data\u001b[38;5;241m=\u001b[39mcur_df)\n",
      "\u001b[1;31mModuleNotFoundError\u001b[0m: No module named 'evidently.metric_preset'"
     ]
    }
   ],
   "source": [
    "# from evidently.report import Report\n",
    "from evidently.metric_preset import DataDriftPreset\n",
    "\n",
    "report = Report(metrics=[\n",
    "    DataDriftPreset()\n",
    "])\n",
    "\n",
    "report.run(reference_data=ref_df, current_data=cur_df)\n",
    "report.save_html(\"data_drift_report.html\")"
   ]
  },
  {
   "cell_type": "markdown",
   "id": "659123d8",
   "metadata": {},
   "source": []
  },
  {
   "cell_type": "markdown",
   "id": "9afa6180",
   "metadata": {},
   "source": []
  },
  {
   "cell_type": "code",
   "execution_count": null,
   "id": "9b62575d",
   "metadata": {},
   "outputs": [],
   "source": [
    "\n",
    "import pandas as pd\n",
    "# from evidently.dashboard import Dashboard\n",
    "# from evidently.tabs import DataDriftTab, CatTargetDriftTab\n",
    "# from evidently.model_profile import Profile\n",
    "# from evidently.profile_sections import DataDriftProfileSection"
   ]
  },
  {
   "cell_type": "code",
   "execution_count": 11,
   "id": "bd45f58c",
   "metadata": {},
   "outputs": [],
   "source": [
    "data_url = \"https://raw.githubusercontent.com/selva86/datasets/master/BostonHousing.csv\"\n",
    "boston_frame = pd.read_csv(data_url)"
   ]
  },
  {
   "cell_type": "code",
   "execution_count": 12,
   "id": "d746bc90",
   "metadata": {},
   "outputs": [
    {
     "data": {
      "text/html": [
       "<div>\n",
       "<style scoped>\n",
       "    .dataframe tbody tr th:only-of-type {\n",
       "        vertical-align: middle;\n",
       "    }\n",
       "\n",
       "    .dataframe tbody tr th {\n",
       "        vertical-align: top;\n",
       "    }\n",
       "\n",
       "    .dataframe thead th {\n",
       "        text-align: right;\n",
       "    }\n",
       "</style>\n",
       "<table border=\"1\" class=\"dataframe\">\n",
       "  <thead>\n",
       "    <tr style=\"text-align: right;\">\n",
       "      <th></th>\n",
       "      <th>crim</th>\n",
       "      <th>zn</th>\n",
       "      <th>indus</th>\n",
       "      <th>chas</th>\n",
       "      <th>nox</th>\n",
       "      <th>rm</th>\n",
       "      <th>age</th>\n",
       "      <th>dis</th>\n",
       "      <th>rad</th>\n",
       "      <th>tax</th>\n",
       "      <th>ptratio</th>\n",
       "      <th>b</th>\n",
       "      <th>lstat</th>\n",
       "      <th>medv</th>\n",
       "    </tr>\n",
       "  </thead>\n",
       "  <tbody>\n",
       "    <tr>\n",
       "      <th>0</th>\n",
       "      <td>0.00632</td>\n",
       "      <td>18.0</td>\n",
       "      <td>2.31</td>\n",
       "      <td>0</td>\n",
       "      <td>0.538</td>\n",
       "      <td>6.575</td>\n",
       "      <td>65.2</td>\n",
       "      <td>4.0900</td>\n",
       "      <td>1</td>\n",
       "      <td>296</td>\n",
       "      <td>15.3</td>\n",
       "      <td>396.90</td>\n",
       "      <td>4.98</td>\n",
       "      <td>24.0</td>\n",
       "    </tr>\n",
       "    <tr>\n",
       "      <th>1</th>\n",
       "      <td>0.02731</td>\n",
       "      <td>0.0</td>\n",
       "      <td>7.07</td>\n",
       "      <td>0</td>\n",
       "      <td>0.469</td>\n",
       "      <td>6.421</td>\n",
       "      <td>78.9</td>\n",
       "      <td>4.9671</td>\n",
       "      <td>2</td>\n",
       "      <td>242</td>\n",
       "      <td>17.8</td>\n",
       "      <td>396.90</td>\n",
       "      <td>9.14</td>\n",
       "      <td>21.6</td>\n",
       "    </tr>\n",
       "    <tr>\n",
       "      <th>2</th>\n",
       "      <td>0.02729</td>\n",
       "      <td>0.0</td>\n",
       "      <td>7.07</td>\n",
       "      <td>0</td>\n",
       "      <td>0.469</td>\n",
       "      <td>7.185</td>\n",
       "      <td>61.1</td>\n",
       "      <td>4.9671</td>\n",
       "      <td>2</td>\n",
       "      <td>242</td>\n",
       "      <td>17.8</td>\n",
       "      <td>392.83</td>\n",
       "      <td>4.03</td>\n",
       "      <td>34.7</td>\n",
       "    </tr>\n",
       "    <tr>\n",
       "      <th>3</th>\n",
       "      <td>0.03237</td>\n",
       "      <td>0.0</td>\n",
       "      <td>2.18</td>\n",
       "      <td>0</td>\n",
       "      <td>0.458</td>\n",
       "      <td>6.998</td>\n",
       "      <td>45.8</td>\n",
       "      <td>6.0622</td>\n",
       "      <td>3</td>\n",
       "      <td>222</td>\n",
       "      <td>18.7</td>\n",
       "      <td>394.63</td>\n",
       "      <td>2.94</td>\n",
       "      <td>33.4</td>\n",
       "    </tr>\n",
       "    <tr>\n",
       "      <th>4</th>\n",
       "      <td>0.06905</td>\n",
       "      <td>0.0</td>\n",
       "      <td>2.18</td>\n",
       "      <td>0</td>\n",
       "      <td>0.458</td>\n",
       "      <td>7.147</td>\n",
       "      <td>54.2</td>\n",
       "      <td>6.0622</td>\n",
       "      <td>3</td>\n",
       "      <td>222</td>\n",
       "      <td>18.7</td>\n",
       "      <td>396.90</td>\n",
       "      <td>5.33</td>\n",
       "      <td>36.2</td>\n",
       "    </tr>\n",
       "  </tbody>\n",
       "</table>\n",
       "</div>"
      ],
      "text/plain": [
       "      crim    zn  indus  chas    nox     rm   age     dis  rad  tax  ptratio  \\\n",
       "0  0.00632  18.0   2.31     0  0.538  6.575  65.2  4.0900    1  296     15.3   \n",
       "1  0.02731   0.0   7.07     0  0.469  6.421  78.9  4.9671    2  242     17.8   \n",
       "2  0.02729   0.0   7.07     0  0.469  7.185  61.1  4.9671    2  242     17.8   \n",
       "3  0.03237   0.0   2.18     0  0.458  6.998  45.8  6.0622    3  222     18.7   \n",
       "4  0.06905   0.0   2.18     0  0.458  7.147  54.2  6.0622    3  222     18.7   \n",
       "\n",
       "        b  lstat  medv  \n",
       "0  396.90   4.98  24.0  \n",
       "1  396.90   9.14  21.6  \n",
       "2  392.83   4.03  34.7  \n",
       "3  394.63   2.94  33.4  \n",
       "4  396.90   5.33  36.2  "
      ]
     },
     "execution_count": 12,
     "metadata": {},
     "output_type": "execute_result"
    }
   ],
   "source": [
    "boston_frame.head()\n"
   ]
  },
  {
   "cell_type": "code",
   "execution_count": 14,
   "id": "455370e9",
   "metadata": {},
   "outputs": [
    {
     "name": "stdout",
     "output_type": "stream",
     "text": [
      "<class 'pandas.core.frame.DataFrame'>\n",
      "RangeIndex: 506 entries, 0 to 505\n",
      "Data columns (total 14 columns):\n",
      " #   Column   Non-Null Count  Dtype  \n",
      "---  ------   --------------  -----  \n",
      " 0   crim     506 non-null    float64\n",
      " 1   zn       506 non-null    float64\n",
      " 2   indus    506 non-null    float64\n",
      " 3   chas     506 non-null    int64  \n",
      " 4   nox      506 non-null    float64\n",
      " 5   rm       506 non-null    float64\n",
      " 6   age      506 non-null    float64\n",
      " 7   dis      506 non-null    float64\n",
      " 8   rad      506 non-null    int64  \n",
      " 9   tax      506 non-null    int64  \n",
      " 10  ptratio  506 non-null    float64\n",
      " 11  b        506 non-null    float64\n",
      " 12  lstat    506 non-null    float64\n",
      " 13  medv     506 non-null    float64\n",
      "dtypes: float64(11), int64(3)\n",
      "memory usage: 55.5 KB\n"
     ]
    }
   ],
   "source": [
    "boston_frame.info()"
   ]
  },
  {
   "cell_type": "code",
   "execution_count": 15,
   "id": "7612eb1b",
   "metadata": {},
   "outputs": [
    {
     "name": "stdout",
     "output_type": "stream",
     "text": [
      "<class 'pandas.core.frame.DataFrame'>\n",
      "RangeIndex: 506 entries, 0 to 505\n",
      "Data columns (total 14 columns):\n",
      " #   Column   Non-Null Count  Dtype  \n",
      "---  ------   --------------  -----  \n",
      " 0   crim     506 non-null    float64\n",
      " 1   zn       506 non-null    float64\n",
      " 2   indus    506 non-null    float64\n",
      " 3   chas     506 non-null    int64  \n",
      " 4   nox      506 non-null    float64\n",
      " 5   rm       506 non-null    float64\n",
      " 6   age      506 non-null    float64\n",
      " 7   dis      506 non-null    float64\n",
      " 8   rad      506 non-null    int64  \n",
      " 9   tax      506 non-null    int64  \n",
      " 10  ptratio  506 non-null    float64\n",
      " 11  b        506 non-null    float64\n",
      " 12  lstat    506 non-null    float64\n",
      " 13  medv     506 non-null    float64\n",
      "dtypes: float64(11), int64(3)\n",
      "memory usage: 55.5 KB\n"
     ]
    }
   ],
   "source": [
    "boston_frame.info()"
   ]
  },
  {
   "cell_type": "code",
   "execution_count": null,
   "id": "db32a84e",
   "metadata": {},
   "outputs": [],
   "source": [
    "boston_frame."
   ]
  }
 ],
 "metadata": {
  "kernelspec": {
   "display_name": "myenv",
   "language": "python",
   "name": "python3"
  },
  "language_info": {
   "codemirror_mode": {
    "name": "ipython",
    "version": 3
   },
   "file_extension": ".py",
   "mimetype": "text/x-python",
   "name": "python",
   "nbconvert_exporter": "python",
   "pygments_lexer": "ipython3",
   "version": "3.10.0"
  }
 },
 "nbformat": 4,
 "nbformat_minor": 5
}
